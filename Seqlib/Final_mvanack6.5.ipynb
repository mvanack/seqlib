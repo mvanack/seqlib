{
 "cells": [
  {
   "cell_type": "markdown",
   "metadata": {},
   "source": [
    "# Assignment\n",
    "\n",
    "-------------\n",
    "\n",
    "**1) Complete this notebook and make a pull request:** \n",
    "\n",
    "Answer questions (Q) in the space provided (A) in this notebook. When finished, copy your notebook to the `Assignment/` directory and name it `nb-6.5-<Github-username>.ipynb`. Then make a pull request to the upstream repo. The entered answers in this notebook will be simply Markdown text where I want you to interpret and describe a block of code to better understand what it is doing. Much of this code you will have seen already. \n",
    "\n",
    "\n",
    "**2) Write an importable Python package, save as a repo, and test it here.**\n",
    "\n",
    "The package should be written as we did in our last lession (`.py` files in a directory with a setup.py file so it can be installed with `pip`). Follow instructions at the end of this notebook for how to write your package. Test it here by importing the package and executing the code at the end. It should work and give correct answers, if not, continue working on it. When you have it completed save your package as a new Github repo named `seqlib`."
   ]
  },
  {
   "cell_type": "markdown",
   "metadata": {},
   "source": [
    "### The `seqlib` package\n",
    "\n",
    "Together we are going to write several functions here that will make up your new package called `seqlib`. It will be your job to copy these functions, organize them into a Class, save the code into a `.py` file (you can use SublimeText if you're comfortable with it for much of this, or any text editor including the one in jupyter), package the files so they can be imported as a library, and test the package so that it accomplishes the tasks which are defined at the end of this notebook. First things first, though, let's write the functions. "
   ]
  },
  {
   "cell_type": "code",
   "execution_count": 1,
   "metadata": {},
   "outputs": [],
   "source": [
    "import numpy as np\n",
    "import pandas as pd"
   ]
  },
  {
   "cell_type": "markdown",
   "metadata": {},
   "source": [
    "### Q.  Describe what the `mutate()` function below does:\n",
    "\n",
    "\n",
    "A. The function provides a set of bases and subtracts the base provided by the user that will be mutated and then returns the mutated base."
   ]
  },
  {
   "cell_type": "code",
   "execution_count": 2,
   "metadata": {},
   "outputs": [],
   "source": [
    "def mutate(base):\n",
    "    diff = set(\"ACTG\") - set(base) # provides a set of 4 bases and subtracts an individual base from the original set \n",
    "    return np.random.choice(list(diff)) # returns one of the three remaining bases after the base is subtracted"
   ]
  },
  {
   "cell_type": "code",
   "execution_count": 3,
   "metadata": {},
   "outputs": [
    {
     "data": {
      "text/plain": [
       "'T'"
      ]
     },
     "execution_count": 3,
     "metadata": {},
     "output_type": "execute_result"
    }
   ],
   "source": [
    "# test it\n",
    "mutate(\"A\")"
   ]
  },
  {
   "cell_type": "markdown",
   "metadata": {},
   "source": [
    "### Q. Describe how the `seqdata()` function below works:\n",
    "Annotate the code by inserting lines with comments as you read through the function to make sense of it. What is being created at each step and how is it used?\n",
    "\n",
    "\n",
    "A. "
   ]
  },
  {
   "cell_type": "code",
   "execution_count": 7,
   "metadata": {},
   "outputs": [],
   "source": [
    "def simulate(ninds, nsites):  #ninds: number of individuals, nsites: each base\n",
    "    oseq = np.random.choice(list(\"ACGT\"), size=nsites) # calls orginal sequence array and creates a sequence of bases\n",
    "    arr = np.array([oseq for i in range(ninds)]) # creates new array of sequences for the range of # of individuals \n",
    "    muts = np.random.binomial(1, 0.1, (ninds, nsites)) # iterates over columns and creates mutation with a 10% mutation probability \n",
    "    \n",
    "    for col in range(nsites):\n",
    "        newbase = mutate(arr[0, col]) #Use mutate function to create mutations in first row of each column\n",
    "        mask = muts[:, col].astype(bool) #goes over each column and grabs only the sites that are mutated - returns boolean type\n",
    "        arr[:, col][mask] = newbase # grab the column, apply mask to .....\n",
    "    missing = np.random.binomial(1, 0.1, (ninds, nsites)) # create missing values using a binomial distribution \n",
    "    arr[missing.astype(bool)] = \"N\" # return missing values with \"N\"\n",
    "    return arr # return array"
   ]
  },
  {
   "cell_type": "code",
   "execution_count": 6,
   "metadata": {},
   "outputs": [
    {
     "name": "stdout",
     "output_type": "stream",
     "text": [
      "[['G' 'G' 'C' 'T' 'G' 'T' 'A' 'G' 'C' 'A' 'A' 'T' 'T' 'N' 'T']\n",
      " ['A' 'G' 'C' 'T' 'A' 'T' 'C' 'G' 'A' 'G' 'A' 'T' 'N' 'A' 'T']\n",
      " ['G' 'N' 'C' 'T' 'A' 'T' 'A' 'G' 'C' 'A' 'A' 'A' 'N' 'A' 'T']\n",
      " ['G' 'G' 'C' 'T' 'A' 'T' 'A' 'G' 'A' 'A' 'A' 'T' 'T' 'N' 'A']\n",
      " ['G' 'G' 'C' 'T' 'A' 'T' 'A' 'G' 'A' 'A' 'A' 'T' 'T' 'A' 'T']\n",
      " ['G' 'G' 'C' 'T' 'A' 'T' 'A' 'G' 'A' 'A' 'A' 'N' 'T' 'C' 'T']]\n"
     ]
    }
   ],
   "source": [
    "seqs = simulate(6, 15) # 6 individuals and 15 bases \n",
    "print(seqs)"
   ]
  },
  {
   "cell_type": "markdown",
   "metadata": {},
   "source": [
    "### **Q: Describe how the `filter_missing` function works:**\n",
    "Annotate the code by inserting lines with comments as you read through the function to make sense of it. How does it find columns with missing (N) values in them? How might you mprove it?\n",
    "\n",
    "A. "
   ]
  },
  {
   "cell_type": "code",
   "execution_count": 8,
   "metadata": {},
   "outputs": [],
   "source": [
    "def filter_missing(arr, maxfreq):\n",
    "    freqmissing = np.sum(arr == \"N\", axis=0) / arr.shape[0] #sum every first row element that equals \"N\", divide by the number of rows \n",
    "    return arr[:, freqmissing <= maxfreq] # return all rows in array where the proportion of freqmissing equals the value given for maxfreq"
   ]
  },
  {
   "cell_type": "code",
   "execution_count": 16,
   "metadata": {},
   "outputs": [
    {
     "data": {
      "text/plain": [
       "array([['G', 'C', 'T', 'G', 'T', 'A', 'G', 'C', 'A', 'A', 'T'],\n",
       "       ['A', 'C', 'T', 'A', 'T', 'C', 'G', 'A', 'G', 'A', 'T'],\n",
       "       ['G', 'C', 'T', 'A', 'T', 'A', 'G', 'C', 'A', 'A', 'T'],\n",
       "       ['G', 'C', 'T', 'A', 'T', 'A', 'G', 'A', 'A', 'A', 'A'],\n",
       "       ['G', 'C', 'T', 'A', 'T', 'A', 'G', 'A', 'A', 'A', 'T'],\n",
       "       ['G', 'C', 'T', 'A', 'T', 'A', 'G', 'A', 'A', 'A', 'T']],\n",
       "      dtype='<U1')"
      ]
     },
     "execution_count": 16,
     "metadata": {},
     "output_type": "execute_result"
    }
   ],
   "source": [
    "filter_missing(seqs, 0.1) # filter seq data so that the missing data is less than 10%"
   ]
  },
  {
   "cell_type": "markdown",
   "metadata": {},
   "source": [
    "### **Q: Describe how the `filter_maf` function works:**\n",
    "Annotate the code by inserting lines with comments as you read through the function to make sense of it. How does it calculate minor allele frequencies? Why does it use copy?\n",
    "\n",
    "A. "
   ]
  },
  {
   "cell_type": "code",
   "execution_count": 10,
   "metadata": {},
   "outputs": [],
   "source": [
    "def filter_maf(arr, minfreq):\n",
    "    freqs = np.sum(arr != arr[0], axis=0) / arr.shape[0] # sum every row element that doesn't match the first element in the column, divide by the number of rows \n",
    "    maf = freqs.copy() # make copy to not change original frequency array\n",
    "    maf[maf > 0.5] = 1 - maf[maf > 0.5] # subselect sites with major freq (>0.5) and modify to be 1-value\n",
    "    return arr[:, maf > minfreq] # return array rows where major allele frequency is greater than minimum allele frequency"
   ]
  },
  {
   "cell_type": "code",
   "execution_count": 17,
   "metadata": {},
   "outputs": [
    {
     "data": {
      "text/plain": [
       "array([['G', 'G', 'G', 'A', 'C', 'A', 'T', 'T', 'N', 'T'],\n",
       "       ['A', 'G', 'A', 'C', 'A', 'G', 'T', 'N', 'A', 'T'],\n",
       "       ['G', 'N', 'A', 'A', 'C', 'A', 'A', 'N', 'A', 'T'],\n",
       "       ['G', 'G', 'A', 'A', 'A', 'A', 'T', 'T', 'N', 'A'],\n",
       "       ['G', 'G', 'A', 'A', 'A', 'A', 'T', 'T', 'A', 'T'],\n",
       "       ['G', 'G', 'A', 'A', 'A', 'A', 'N', 'T', 'C', 'T']], dtype='<U1')"
      ]
     },
     "execution_count": 17,
     "metadata": {},
     "output_type": "execute_result"
    }
   ],
   "source": [
    "filter_maf(seqs, 0.1)"
   ]
  },
  {
   "cell_type": "markdown",
   "metadata": {},
   "source": [
    "### Q: What order should these functions be applied, does it matter?\n",
    "\n",
    "A. The order of these functions should be swapped so that the missing values identified through the filter_missing function are removed and the sequence data used for the filter_maf function does not include \"N\" elements. "
   ]
  },
  {
   "cell_type": "code",
   "execution_count": 19,
   "metadata": {},
   "outputs": [
    {
     "data": {
      "text/plain": [
       "array([['G', 'G', 'A', 'C', 'A', 'T'],\n",
       "       ['A', 'A', 'C', 'A', 'G', 'T'],\n",
       "       ['G', 'A', 'A', 'C', 'A', 'T'],\n",
       "       ['G', 'A', 'A', 'A', 'A', 'A'],\n",
       "       ['G', 'A', 'A', 'A', 'A', 'T'],\n",
       "       ['G', 'A', 'A', 'A', 'A', 'T']], dtype='<U1')"
      ]
     },
     "execution_count": 19,
     "metadata": {},
     "output_type": "execute_result"
    }
   ],
   "source": [
    "filter_missing(filter_maf(seqs, 0.1), 0.1)"
   ]
  },
  {
   "cell_type": "code",
   "execution_count": 20,
   "metadata": {},
   "outputs": [
    {
     "data": {
      "text/plain": [
       "array([['G', 'G', 'A', 'C', 'A', 'T'],\n",
       "       ['A', 'A', 'C', 'A', 'G', 'T'],\n",
       "       ['G', 'A', 'A', 'C', 'A', 'T'],\n",
       "       ['G', 'A', 'A', 'A', 'A', 'A'],\n",
       "       ['G', 'A', 'A', 'A', 'A', 'T'],\n",
       "       ['G', 'A', 'A', 'A', 'A', 'T']], dtype='<U1')"
      ]
     },
     "execution_count": 20,
     "metadata": {},
     "output_type": "execute_result"
    }
   ],
   "source": [
    "filter_maf(filter_missing(seqs, 0.1), 0.1)"
   ]
  },
  {
   "cell_type": "markdown",
   "metadata": {},
   "source": [
    "### Q: Describe how `calculate_statistics()` works\n",
    "\n",
    "\n",
    "A. "
   ]
  },
  {
   "cell_type": "code",
   "execution_count": 21,
   "metadata": {},
   "outputs": [],
   "source": [
    "def calculcate_statistics(arr):\n",
    "    nd = np.var(arr == arr[0], axis=0).mean() # get mean value for all elements present\n",
    "    mf = np.mean(np.sum(arr != arr[0], axis=0) / arr.shape[0]) # get mean value for elements that have mutated (=1)\n",
    "    inv = np.any(arr != arr[0], axis=0).sum() # get sum value for all elements that have not mutated (=0)\n",
    "    var = arr.shape[1] - inv # subtract invariant sites from whole array to get the variable sites\n",
    "    return pd.Series(\n",
    "        {\"mean nucleotide diversity\": nd, # provide column headers shown as strings for the objects defined in the series \n",
    "         \"mean minor allele frequency\": mf,\n",
    "         \"invariant sites\": inv,\n",
    "         \"variable sites\": var,\n",
    "        })"
   ]
  },
  {
   "cell_type": "code",
   "execution_count": 22,
   "metadata": {},
   "outputs": [
    {
     "data": {
      "text/plain": [
       "invariant sites                10.000000\n",
       "mean minor allele frequency     0.244444\n",
       "mean nucleotide diversity       0.114815\n",
       "variable sites                  5.000000\n",
       "dtype: float64"
      ]
     },
     "execution_count": 22,
     "metadata": {},
     "output_type": "execute_result"
    }
   ],
   "source": [
    "calculcate_statistics(seqs)"
   ]
  },
  {
   "cell_type": "markdown",
   "metadata": {},
   "source": [
    "### Instructions: Write a `seqlib` Class object\n",
    "\n",
    "I started writing the bare bones of it below. You should write it so that it can be executed as described below to perform all of the functions we defined above, and so that its attributes can be accessed. Save this class object in a `.py` file and make it into an importable package called `seqlib`. You can write and test your object in this notebook if you like, but it must be saved separately in a `.py` file and be imported. You cannot execute the code at the end using your object defined here in the notebook. When finished save your package to GitHub as a repo just like we did with the `helloworld` package. You do not need to write a CLI script like we did for the `helloworld` package, we will only be using the Python API here. See the examples below for **how you should write your Class object**. It should be able to run in the way written below, so look at that code and think about how you would write a Class object that can do that. \n",
    "\n",
    "While you can mostly copy the functions from above, you will need to modify them slightly to access information about the Class object using *self*. For example, the `simulate()` function below takes self as a first argument and can access `self.inds` and `self.nsites` from that, so we do not need to provide those as arguments to the `simulate` function like we did above. "
   ]
  },
  {
   "cell_type": "code",
   "execution_count": 47,
   "metadata": {},
   "outputs": [],
   "source": [
    "\n",
    "import numpy as np\n",
    "import pandas as pd\n",
    "import copy\n",
    "\n",
    "\n",
    "class Seqlib:\n",
    "    def __init__(self, ninds, nsites):\n",
    "        \n",
    "        self.ninds = ninds\n",
    "        self.nsites = nsites\n",
    "        self.seqs = self._simulate()\n",
    "        # store maf of the full seq array\n",
    "        self.maf = self._get_maf()\n",
    "     \n",
    "\n",
    "    def _mutate(self, base):\n",
    "        diff = set(\"ACTG\") - set(base) # provides a set of 4 bases and subtracts an individual base from the original set \n",
    "        return np.random.choice(list(diff)) # returns one of the three remaining bases after the base is subtracted\n",
    "        \n",
    "    def _simulate(self):\n",
    "        oseq = np.random.choice(list(\"ACGT\"), size=self.nsites) # calls orginal sequence array and creates a sequence of bases\n",
    "        arr = np.array([oseq for i in range(self.ninds)]) # creates new array of sequences for the range of # of individuals \n",
    "        muts = np.random.binomial(1, 0.1, (self.ninds, self.nsites)) # iterates over columns and creates mutation with a 10% mutation probability \n",
    "    \n",
    "        for col in range(self.nsites):\n",
    "            newbase = self._mutate(arr[0, col]) #Use mutate function to create mutations in first row of each column\n",
    "            mask = muts[:, col].astype(bool) #goes over each column and grabs only the sites that are mutated - returns boolean type\n",
    "            arr[:, col][mask] = newbase # grab the column, apply mask to .....\n",
    "        missing = np.random.binomial(1, 0.1, (self.ninds, self.nsites)) # create missing values using a binomial distribution \n",
    "        arr[missing.astype(bool)] = \"N\" # return missing values with \"N\"\n",
    "        return arr # return array\n",
    "\n",
    "    \n",
    "    def _get_maf(self):\n",
    "        \"returns the maf of the full seqarray while not counting Ns\"\n",
    "        ## init an array to fill and iterate over columns\n",
    "        maf = np.zeros(self.nsites)\n",
    "        for col in range(self.nsites):\n",
    "            ## select this column of bases\n",
    "            thiscol = self.seqs[:, col]\n",
    "\n",
    "            ## mask \"N\" bases and get new length\n",
    "            nmask = thiscol != \"N\"\n",
    "            no_n_len = np.sum(nmask)\n",
    "\n",
    "            ## mask \"N\" bases and get the first base\n",
    "            first_non_n_base = thiscol[nmask][0]\n",
    "\n",
    "            ## calculate maf of \"N\" masked bases\n",
    "            freq = np.sum(thiscol[nmask] != first_non_n_base) / no_n_len\n",
    "            if freq > 0.5:\n",
    "                maf[col] = 1 - freq\n",
    "            else:\n",
    "                maf[col] = freq\n",
    "        return maf\n",
    "    \n",
    "    def _filter_missing(self, maxmissing):\n",
    "        freqmissing = np.sum(self.seqs == \"N\", axis=0) / self.seqs.shape[0] #sum every first row element that equals \"N\", divide by the number of rows \n",
    "        return freqmissing > maxmissing # return all rows in array where the proportion of freqmissing equals the value given for maxfreq\n",
    "\n",
    "    def _filter_maf(self, minmaf):\n",
    "        return self.maf < minmaf # return array rows where major allele frequency is greater than minimum allele frequency\n",
    "    \n",
    "    #public function:\n",
    "    def filter(self, minmaf, maxmissing):   \n",
    "        filter1 = self._filter_maf(minmaf)\n",
    "        filter2 = self._filter_missing(maxmissing)\n",
    "        fullfilter = filter1 + filter2\n",
    "        return self.seqs[:, np.invert(fullfilter)]\n",
    "\n",
    "    \n",
    "    def filter_seqlib(self, minmaf, maxmissing):\n",
    "        \"\"\"\n",
    "        Applies maf and missing filters to the array and returns a copy \n",
    "        of the seqlib object where the .seqs array has been filtered\n",
    "\n",
    "        Parameters\n",
    "        ----------\n",
    "        minmaf: float\n",
    "            The minimum minor allele frequency. Filter columns below this.\n",
    "        maxmissing: float\n",
    "            The maximum prop. missing data. Filter columns with prop Ns > this.\n",
    "        \"\"\"\n",
    "        ## apply filters to get new array size\n",
    "        newseqs = self.filter(minmaf, maxmissing)\n",
    "\n",
    "        ## make a new copy of the seqlib object\n",
    "        newself = copy.deepcopy(self)       \n",
    "        newself.__init__(newseqs.shape[0], newseqs.shape[1]) \n",
    "\n",
    "        ## store the array (overwrite it)\n",
    "        newself.seqs = newseqs\n",
    "\n",
    "        ## call the _get_maf to match new array\n",
    "        newself._get_maf()\n",
    "        return newself\n",
    "\n",
    "    def calculate_statistics(self):\n",
    "        \"\"\" \n",
    "        Returns a dataframe of statistics on the seqs array. The earlier \n",
    "        example from the notebook had a bug where var and inv were switched.\n",
    "        \"\"\"\n",
    "        if self.seqs.size:\n",
    "            nd = np.var(self.seqs == self.seqs[0], axis=0).mean()\n",
    "            mf = np.mean(\n",
    "                np.sum(self.seqs != self.seqs[0], axis=0) / self.seqs.shape[0])\n",
    "            inv = np.all(self.seqs == self.seqs[0], axis=0).sum()\n",
    "            var = self.seqs.shape[1] - inv\n",
    "            return pd.Series(\n",
    "                {\"mean nucleotide diversity\": nd,\n",
    "                 \"mean minor allele frequency\": mf,\n",
    "                 \"invariant sites\": inv,\n",
    "                 \"variable sites\": var,\n",
    "                })\n",
    "        else:\n",
    "            print(\"seqs array is empty\")\n",
    "\n"
   ]
  },
  {
   "cell_type": "markdown",
   "metadata": {},
   "source": [
    "## Test your package\n",
    "The package should be globally importable (you ran `pip install .` or `pip install -e .` to install it), and it should be able to execute the following code without error. "
   ]
  },
  {
   "cell_type": "code",
   "execution_count": 28,
   "metadata": {},
   "outputs": [],
   "source": [
    "#import Seqlib"
   ]
  },
  {
   "cell_type": "code",
   "execution_count": 48,
   "metadata": {},
   "outputs": [
    {
     "data": {
      "text/plain": [
       "<__main__.Seqlib at 0x106dcc208>"
      ]
     },
     "execution_count": 48,
     "metadata": {},
     "output_type": "execute_result"
    }
   ],
   "source": [
    "# init a Seqlib Class object\n",
    "s = Seqlib(ninds=10, nsites=50)\n",
    "s"
   ]
  },
  {
   "cell_type": "code",
   "execution_count": 49,
   "metadata": {},
   "outputs": [
    {
     "name": "stdout",
     "output_type": "stream",
     "text": [
      "10 50\n"
     ]
    }
   ],
   "source": [
    "# access attributes from the object\n",
    "print(seqs.ninds, seqs.nsites)"
   ]
  },
  {
   "cell_type": "code",
   "execution_count": 50,
   "metadata": {},
   "outputs": [
    {
     "name": "stdout",
     "output_type": "stream",
     "text": [
      "[0.125      0.125      0.2        0.125      0.         0.11111111\n",
      " 0.         0.         0.11111111 0.         0.2        0.11111111\n",
      " 0.1        0.2        0.14285714 0.         0.11111111 0.2\n",
      " 0.         0.11111111 0.22222222 0.         0.         0.1\n",
      " 0.         0.         0.         0.         0.14285714 0.1\n",
      " 0.         0.         0.1        0.11111111 0.2        0.\n",
      " 0.         0.125      0.         0.         0.         0.\n",
      " 0.11111111 0.125      0.2        0.1        0.11111111 0.1\n",
      " 0.125      0.11111111]\n"
     ]
    }
   ],
   "source": [
    "# returns the MAF of the array as an array of floats\n",
    "#seqs.filter_maf(0.1)\n",
    "print(s.maf)"
   ]
  },
  {
   "cell_type": "code",
   "execution_count": 51,
   "metadata": {},
   "outputs": [
    {
     "name": "stdout",
     "output_type": "stream",
     "text": [
      "[['C' 'A' 'G' 'A' 'T' 'T' 'G' 'A' 'G' 'G' 'C' 'G']\n",
      " ['G' 'A' 'G' 'C' 'C' 'C' 'G' 'A' 'G' 'G' 'C' 'G']\n",
      " ['C' 'A' 'G' 'C' 'C' 'T' 'T' 'C' 'G' 'G' 'C' 'G']\n",
      " ['C' 'A' 'G' 'C' 'T' 'T' 'G' 'A' 'G' 'G' 'C' 'G']\n",
      " ['C' 'A' 'G' 'C' 'T' 'T' 'G' 'A' 'C' 'T' 'T' 'G']\n",
      " ['C' 'A' 'T' 'A' 'T' 'T' 'G' 'A' 'G' 'T' 'C' 'G']\n",
      " ['C' 'A' 'G' 'C' 'T' 'T' 'G' 'A' 'G' 'G' 'C' 'A']\n",
      " ['G' 'C' 'G' 'C' 'T' 'T' 'G' 'A' 'C' 'G' 'C' 'G']\n",
      " ['C' 'A' 'G' 'C' 'T' 'T' 'G' 'A' 'G' 'G' 'C' 'G']\n",
      " ['C' 'C' 'G' 'C' 'T' 'T' 'G' 'A' 'G' 'G' 'C' 'G']]\n"
     ]
    }
   ],
   "source": [
    "# return a view of the filtered sequence array by applying a new function \n",
    "# called `filter()` that applies both the maf and missing filter functions\n",
    "# seqs.descriptive(minmaf=0.1, maxmissing=0.0)\n",
    "print(s.filter(minmaf=0.1, maxmissing=0.0))\n"
   ]
  },
  {
   "cell_type": "code",
   "execution_count": 52,
   "metadata": {},
   "outputs": [],
   "source": [
    "## return a new copy of seqlib object with modified seqarray \n",
    "n = s.filter_seqlib(minmaf=0.1, maxmissing=0.0)"
   ]
  },
  {
   "cell_type": "code",
   "execution_count": 53,
   "metadata": {},
   "outputs": [
    {
     "data": {
      "text/plain": [
       "invariant sites                 6.0000\n",
       "mean minor allele frequency     0.2200\n",
       "mean nucleotide diversity       0.1228\n",
       "variable sites                 44.0000\n",
       "dtype: float64"
      ]
     },
     "execution_count": 53,
     "metadata": {},
     "output_type": "execute_result"
    }
   ],
   "source": [
    "# calculate statistics for an array with the results returned as a DataFrame\n",
    "s.calculate_statistics()"
   ]
  },
  {
   "cell_type": "code",
   "execution_count": 54,
   "metadata": {},
   "outputs": [
    {
     "data": {
      "text/plain": [
       "invariant sites                 0.000\n",
       "mean minor allele frequency     0.200\n",
       "mean nucleotide diversity       0.125\n",
       "variable sites                 12.000\n",
       "dtype: float64"
      ]
     },
     "execution_count": 54,
     "metadata": {},
     "output_type": "execute_result"
    }
   ],
   "source": [
    "## view stats on the modified seqarray\n",
    "n.calculate_statistics()"
   ]
  },
  {
   "cell_type": "code",
   "execution_count": 57,
   "metadata": {},
   "outputs": [
    {
     "data": {
      "text/plain": [
       "invariant sites                 0.000\n",
       "mean minor allele frequency     0.200\n",
       "mean nucleotide diversity       0.125\n",
       "variable sites                 12.000\n",
       "dtype: float64"
      ]
     },
     "execution_count": 57,
     "metadata": {},
     "output_type": "execute_result"
    }
   ],
   "source": [
    "## or do the same in one shot\n",
    "s.filter_seqlib(minmaf=0.1, maxmissing=0.0).calculate_statistics()"
   ]
  },
  {
   "cell_type": "code",
   "execution_count": null,
   "metadata": {},
   "outputs": [],
   "source": []
  }
 ],
 "metadata": {
  "kernelspec": {
   "display_name": "Python 3",
   "language": "python",
   "name": "python3"
  },
  "language_info": {
   "codemirror_mode": {
    "name": "ipython",
    "version": 3
   },
   "file_extension": ".py",
   "mimetype": "text/x-python",
   "name": "python",
   "nbconvert_exporter": "python",
   "pygments_lexer": "ipython3",
   "version": "3.6.3"
  }
 },
 "nbformat": 4,
 "nbformat_minor": 2
}
